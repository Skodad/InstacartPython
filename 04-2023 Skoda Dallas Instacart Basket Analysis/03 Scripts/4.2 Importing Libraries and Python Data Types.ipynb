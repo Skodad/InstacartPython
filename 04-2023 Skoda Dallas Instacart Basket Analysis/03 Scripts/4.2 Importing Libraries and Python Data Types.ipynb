{
 "cells": [
  {
   "cell_type": "markdown",
   "id": "490fb01c",
   "metadata": {},
   "source": [
    "#01. Importing Libraries"
   ]
  },
  {
   "cell_type": "code",
   "execution_count": 1,
   "id": "7f1ec6fc",
   "metadata": {},
   "outputs": [],
   "source": [
    "# Import libraries\n",
    "import pandas as pd\n",
    "import numpy as np\n",
    "import os"
   ]
  },
  {
   "cell_type": "markdown",
   "id": "9bc3d3fa",
   "metadata": {},
   "source": [
    "#02. Data Types"
   ]
  },
  {
   "cell_type": "code",
   "execution_count": 18,
   "id": "517a1dca",
   "metadata": {},
   "outputs": [],
   "source": [
    "#Code for three different ways to reach 100\n",
    "x=5"
   ]
  },
  {
   "cell_type": "code",
   "execution_count": 19,
   "id": "09fed8d0",
   "metadata": {},
   "outputs": [],
   "source": [
    "y=20"
   ]
  },
  {
   "cell_type": "code",
   "execution_count": 29,
   "id": "7bc44c80",
   "metadata": {},
   "outputs": [
    {
     "data": {
      "text/plain": [
       "100"
      ]
     },
     "execution_count": 29,
     "metadata": {},
     "output_type": "execute_result"
    }
   ],
   "source": [
    "(x+5)*(y+15)-250"
   ]
  },
  {
   "cell_type": "code",
   "execution_count": 21,
   "id": "78af19fa",
   "metadata": {},
   "outputs": [
    {
     "data": {
      "text/plain": [
       "100"
      ]
     },
     "execution_count": 21,
     "metadata": {},
     "output_type": "execute_result"
    }
   ],
   "source": [
    "x+95"
   ]
  },
  {
   "cell_type": "code",
   "execution_count": 22,
   "id": "c70395ac",
   "metadata": {},
   "outputs": [
    {
     "data": {
      "text/plain": [
       "100"
      ]
     },
     "execution_count": 22,
     "metadata": {},
     "output_type": "execute_result"
    }
   ],
   "source": [
    "(y*10)-100"
   ]
  },
  {
   "cell_type": "code",
   "execution_count": 40,
   "id": "5167adaf",
   "metadata": {},
   "outputs": [],
   "source": [
    "#Code for 2 floating-point variables and then dividing them into each other\n",
    "a=3.14"
   ]
  },
  {
   "cell_type": "code",
   "execution_count": 24,
   "id": "65de3909",
   "metadata": {},
   "outputs": [],
   "source": [
    "b=6.28"
   ]
  },
  {
   "cell_type": "code",
   "execution_count": 25,
   "id": "c5fe1283",
   "metadata": {},
   "outputs": [
    {
     "data": {
      "text/plain": [
       "2.0"
      ]
     },
     "execution_count": 25,
     "metadata": {},
     "output_type": "execute_result"
    }
   ],
   "source": [
    "b/a"
   ]
  },
  {
   "cell_type": "code",
   "execution_count": 26,
   "id": "1a22af27",
   "metadata": {},
   "outputs": [],
   "source": [
    "#Construct a short word made of separate strings\n",
    "c='break'"
   ]
  },
  {
   "cell_type": "code",
   "execution_count": 27,
   "id": "64e1aa5c",
   "metadata": {},
   "outputs": [],
   "source": [
    "d='fast'"
   ]
  },
  {
   "cell_type": "code",
   "execution_count": 28,
   "id": "548d0d14",
   "metadata": {},
   "outputs": [
    {
     "data": {
      "text/plain": [
       "'breakfast'"
      ]
     },
     "execution_count": 28,
     "metadata": {},
     "output_type": "execute_result"
    }
   ],
   "source": [
    "c+d"
   ]
  },
  {
   "cell_type": "code",
   "execution_count": 37,
   "id": "876cbbf5",
   "metadata": {},
   "outputs": [],
   "source": [
    "#Construct two short sentences made of separate strings\n",
    "e='I am really hungry.'"
   ]
  },
  {
   "cell_type": "code",
   "execution_count": 38,
   "id": "8c956b55",
   "metadata": {},
   "outputs": [],
   "source": [
    "f='  I would like some '+(c+d)+'!'"
   ]
  },
  {
   "cell_type": "code",
   "execution_count": 39,
   "id": "baaf02fd",
   "metadata": {},
   "outputs": [
    {
     "data": {
      "text/plain": [
       "'I am really hungry.  I would like some breakfast!'"
      ]
     },
     "execution_count": 39,
     "metadata": {},
     "output_type": "execute_result"
    }
   ],
   "source": [
    "e+f"
   ]
  },
  {
   "cell_type": "code",
   "execution_count": 41,
   "id": "aadc037a",
   "metadata": {},
   "outputs": [
    {
     "data": {
      "text/plain": [
       "'breakfastbreakfastbreakfastbreakfastbreakfastbreakfastbreakfastbreakfastbreakfastbreakfastbreakfastbreakfastbreakfastbreakfastbreakfastbreakfastbreakfastbreakfastbreakfastbreakfastbreakfastbreakfastbreakfastbreakfastbreakfastbreakfastbreakfastbreakfastbreakfastbreakfastbreakfastbreakfastbreakfastbreakfastbreakfastbreakfastbreakfastbreakfastbreakfastbreakfastbreakfastbreakfastbreakfastbreakfastbreakfastbreakfastbreakfastbreakfastbreakfastbreakfastbreakfastbreakfastbreakfastbreakfastbreakfastbreakfastbreakfastbreakfastbreakfastbreakfastbreakfastbreakfastbreakfastbreakfastbreakfastbreakfastbreakfastbreakfastbreakfastbreakfastbreakfastbreakfastbreakfastbreakfastbreakfastbreakfastbreakfastbreakfastbreakfastbreakfastbreakfastbreakfastbreakfastbreakfastbreakfastbreakfastbreakfastbreakfastbreakfastbreakfastbreakfastbreakfastbreakfastbreakfastbreakfastbreakfastbreakfastbreakfastbreakfastbreakfast'"
      ]
     },
     "execution_count": 41,
     "metadata": {},
     "output_type": "execute_result"
    }
   ],
   "source": [
    "#Bonus Task: A command that makes a string appear 100 times\n",
    "(c+d)*100"
   ]
  },
  {
   "cell_type": "code",
   "execution_count": null,
   "id": "b2d6f71a",
   "metadata": {},
   "outputs": [],
   "source": []
  }
 ],
 "metadata": {
  "kernelspec": {
   "display_name": "Python 3 (ipykernel)",
   "language": "python",
   "name": "python3"
  },
  "language_info": {
   "codemirror_mode": {
    "name": "ipython",
    "version": 3
   },
   "file_extension": ".py",
   "mimetype": "text/x-python",
   "name": "python",
   "nbconvert_exporter": "python",
   "pygments_lexer": "ipython3",
   "version": "3.10.9"
  }
 },
 "nbformat": 4,
 "nbformat_minor": 5
}
